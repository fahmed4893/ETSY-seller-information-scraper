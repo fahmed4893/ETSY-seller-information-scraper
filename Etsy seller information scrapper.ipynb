{
 "cells": [
  {
   "cell_type": "code",
   "execution_count": 1,
   "id": "ce93a74a-d3bb-43a1-b031-2d7281b21450",
   "metadata": {},
   "outputs": [],
   "source": [
    "%config IPCompleter.greedy=True"
   ]
  },
  {
   "cell_type": "code",
   "execution_count": 2,
   "id": "34d233f6-0322-4366-9151-f607a6ed4d12",
   "metadata": {},
   "outputs": [],
   "source": [
    "import pandas as pd\n",
    "import numpy as np\n",
    "import requests\n",
    "from bs4 import BeautifulSoup\n",
    "import matplotlib as mp"
   ]
  },
  {
   "cell_type": "code",
   "execution_count": 3,
   "id": "05f036e4-5cec-411b-92d7-208534bb5f43",
   "metadata": {},
   "outputs": [],
   "source": [
    "HEADERS= {'User-Agent':'Mozilla/5.0 (Macintosh; Intel Mac OS X 10_11_2) AppleWebKit/601.3.9 (KHTML, like Gecko) Version/9.0.2 Safari/601.3.9'}"
   ]
  },
  {
   "cell_type": "code",
   "execution_count": 4,
   "id": "e043a658-c580-484e-b2ee-7c3420c68061",
   "metadata": {},
   "outputs": [],
   "source": [
    "df=pd.read_csv(\"Shop_names.csv\")"
   ]
  },
  {
   "cell_type": "code",
   "execution_count": 5,
   "id": "cdcea139-703c-4a63-a181-2a4b2e56b4a1",
   "metadata": {},
   "outputs": [
    {
     "data": {
      "text/html": [
       "<div>\n",
       "<style scoped>\n",
       "    .dataframe tbody tr th:only-of-type {\n",
       "        vertical-align: middle;\n",
       "    }\n",
       "\n",
       "    .dataframe tbody tr th {\n",
       "        vertical-align: top;\n",
       "    }\n",
       "\n",
       "    .dataframe thead th {\n",
       "        text-align: right;\n",
       "    }\n",
       "</style>\n",
       "<table border=\"1\" class=\"dataframe\">\n",
       "  <thead>\n",
       "    <tr style=\"text-align: right;\">\n",
       "      <th></th>\n",
       "      <th>Shop names</th>\n",
       "      <th>Category</th>\n",
       "      <th>Shop</th>\n",
       "      <th>Shop_URL</th>\n",
       "    </tr>\n",
       "  </thead>\n",
       "  <tbody>\n",
       "    <tr>\n",
       "      <th>0</th>\n",
       "      <td>TurkishTowelLoom</td>\n",
       "      <td>Bathroom</td>\n",
       "      <td>https://www.etsy.com/shop/TurkishTowelLoom</td>\n",
       "      <td>https://www.etsy.com/shop/TurkishTowelLoom</td>\n",
       "    </tr>\n",
       "    <tr>\n",
       "      <th>1</th>\n",
       "      <td>LylaHomeConcept</td>\n",
       "      <td>Bathroom</td>\n",
       "      <td>https://www.etsy.com/shop/LylaHomeConcept</td>\n",
       "      <td>https://www.etsy.com/shop/LylaHomeConcept</td>\n",
       "    </tr>\n",
       "    <tr>\n",
       "      <th>2</th>\n",
       "      <td>HeurekaTowel</td>\n",
       "      <td>Bathroom</td>\n",
       "      <td>https://www.etsy.com/shop/HeurekaTowel</td>\n",
       "      <td>https://www.etsy.com/shop/HeurekaTowel</td>\n",
       "    </tr>\n",
       "    <tr>\n",
       "      <th>3</th>\n",
       "      <td>ZEEMRusticHomeDecor</td>\n",
       "      <td>Bathroom</td>\n",
       "      <td>https://www.etsy.com/shop/ZEEMRusticHomeDecor</td>\n",
       "      <td>https://www.etsy.com/shop/ZEEMRusticHomeDecor</td>\n",
       "    </tr>\n",
       "    <tr>\n",
       "      <th>4</th>\n",
       "      <td>PennysCharmingHome</td>\n",
       "      <td>Bathroom</td>\n",
       "      <td>https://www.etsy.com/shop/PennysCharmingHome</td>\n",
       "      <td>https://www.etsy.com/shop/PennysCharmingHome</td>\n",
       "    </tr>\n",
       "    <tr>\n",
       "      <th>5</th>\n",
       "      <td>MnnrDesign</td>\n",
       "      <td>Bathroom</td>\n",
       "      <td>https://www.etsy.com/shop/MnnrDesign</td>\n",
       "      <td>https://www.etsy.com/shop/MnnrDesign</td>\n",
       "    </tr>\n",
       "    <tr>\n",
       "      <th>6</th>\n",
       "      <td>HarmonyHomeDecors</td>\n",
       "      <td>Bathroom</td>\n",
       "      <td>https://www.etsy.com/shop/HarmonyHomeDecors</td>\n",
       "      <td>https://www.etsy.com/shop/HarmonyHomeDecors</td>\n",
       "    </tr>\n",
       "    <tr>\n",
       "      <th>7</th>\n",
       "      <td>WholesaleTowels</td>\n",
       "      <td>Bathroom</td>\n",
       "      <td>https://www.etsy.com/shop/WholesaleTowels</td>\n",
       "      <td>https://www.etsy.com/shop/WholesaleTowels</td>\n",
       "    </tr>\n",
       "    <tr>\n",
       "      <th>8</th>\n",
       "      <td>TurkishToweLife</td>\n",
       "      <td>Bathroom</td>\n",
       "      <td>https://www.etsy.com/shop/TurkishToweLife</td>\n",
       "      <td>https://www.etsy.com/shop/TurkishToweLife</td>\n",
       "    </tr>\n",
       "    <tr>\n",
       "      <th>9</th>\n",
       "      <td>CapcityES</td>\n",
       "      <td>Bathroom</td>\n",
       "      <td>https://www.etsy.com/shop/CapcityES</td>\n",
       "      <td>https://www.etsy.com/shop/CapcityES</td>\n",
       "    </tr>\n",
       "  </tbody>\n",
       "</table>\n",
       "</div>"
      ],
      "text/plain": [
       "            Shop names  Category  \\\n",
       "0     TurkishTowelLoom  Bathroom   \n",
       "1      LylaHomeConcept  Bathroom   \n",
       "2         HeurekaTowel  Bathroom   \n",
       "3  ZEEMRusticHomeDecor  Bathroom   \n",
       "4   PennysCharmingHome  Bathroom   \n",
       "5           MnnrDesign  Bathroom   \n",
       "6    HarmonyHomeDecors  Bathroom   \n",
       "7      WholesaleTowels  Bathroom   \n",
       "8      TurkishToweLife  Bathroom   \n",
       "9            CapcityES  Bathroom   \n",
       "\n",
       "                                            Shop  \\\n",
       "0     https://www.etsy.com/shop/TurkishTowelLoom   \n",
       "1      https://www.etsy.com/shop/LylaHomeConcept   \n",
       "2         https://www.etsy.com/shop/HeurekaTowel   \n",
       "3  https://www.etsy.com/shop/ZEEMRusticHomeDecor   \n",
       "4   https://www.etsy.com/shop/PennysCharmingHome   \n",
       "5           https://www.etsy.com/shop/MnnrDesign   \n",
       "6    https://www.etsy.com/shop/HarmonyHomeDecors   \n",
       "7      https://www.etsy.com/shop/WholesaleTowels   \n",
       "8      https://www.etsy.com/shop/TurkishToweLife   \n",
       "9            https://www.etsy.com/shop/CapcityES   \n",
       "\n",
       "                                        Shop_URL  \n",
       "0     https://www.etsy.com/shop/TurkishTowelLoom  \n",
       "1      https://www.etsy.com/shop/LylaHomeConcept  \n",
       "2         https://www.etsy.com/shop/HeurekaTowel  \n",
       "3  https://www.etsy.com/shop/ZEEMRusticHomeDecor  \n",
       "4   https://www.etsy.com/shop/PennysCharmingHome  \n",
       "5           https://www.etsy.com/shop/MnnrDesign  \n",
       "6    https://www.etsy.com/shop/HarmonyHomeDecors  \n",
       "7      https://www.etsy.com/shop/WholesaleTowels  \n",
       "8      https://www.etsy.com/shop/TurkishToweLife  \n",
       "9            https://www.etsy.com/shop/CapcityES  "
      ]
     },
     "execution_count": 5,
     "metadata": {},
     "output_type": "execute_result"
    }
   ],
   "source": [
    "df.head(10)\n"
   ]
  },
  {
   "cell_type": "code",
   "execution_count": 6,
   "id": "538b7a4a-1e29-48b3-a364-8a29f049093f",
   "metadata": {},
   "outputs": [
    {
     "data": {
      "text/plain": [
       "0           https://www.etsy.com/shop/TurkishTowelLoom\n",
       "1            https://www.etsy.com/shop/LylaHomeConcept\n",
       "2               https://www.etsy.com/shop/HeurekaTowel\n",
       "3        https://www.etsy.com/shop/ZEEMRusticHomeDecor\n",
       "4         https://www.etsy.com/shop/PennysCharmingHome\n",
       "                             ...                      \n",
       "7764          https://www.etsy.com/shop/Kirins3dPrints\n",
       "7765                https://www.etsy.com/shop/giftpera\n",
       "7766           https://www.etsy.com/shop/TheFastnetLab\n",
       "7767    https://www.etsy.com/shop/CustomPortraitByMira\n",
       "7768       https://www.etsy.com/shop/vintagescaredycat\n",
       "Name: Shop_URL, Length: 7769, dtype: object"
      ]
     },
     "execution_count": 6,
     "metadata": {},
     "output_type": "execute_result"
    }
   ],
   "source": [
    "df['Shop_URL']"
   ]
  },
  {
   "cell_type": "code",
   "execution_count": 20,
   "id": "52270a46-6e16-4d15-aa31-b0817c00bd1d",
   "metadata": {},
   "outputs": [
    {
     "data": {
      "text/plain": [
       "'https://www.etsy.com/shop/vintagescaredycat'"
      ]
     },
     "execution_count": 20,
     "metadata": {},
     "output_type": "execute_result"
    }
   ],
   "source": [
    "df['Shop_URL'][7768]"
   ]
  },
  {
   "cell_type": "code",
   "execution_count": 8,
   "id": "582fd6f2-c983-4aa8-a617-39de5a246967",
   "metadata": {},
   "outputs": [
    {
     "name": "stdout",
     "output_type": "stream",
     "text": [
      "<class 'pandas.core.series.Series'>\n",
      "RangeIndex: 7769 entries, 0 to 7768\n",
      "Series name: Shop_URL\n",
      "Non-Null Count  Dtype \n",
      "--------------  ----- \n",
      "7769 non-null   object\n",
      "dtypes: object(1)\n",
      "memory usage: 60.8+ KB\n"
     ]
    }
   ],
   "source": [
    "df['Shop_URL'].info()"
   ]
  },
  {
   "cell_type": "code",
   "execution_count": 29,
   "id": "816c5f0c-e95c-4ff2-8bfd-bc2a3b0d85db",
   "metadata": {},
   "outputs": [],
   "source": [
    "l=[]\n",
    "link=7768\n",
    "for link in range(7768,7769):\n",
    "    url=df['Shop_URL'][link]\n",
    "    response=requests.get(url,headers=HEADERS)\n",
    "    soup=BeautifulSoup(response.text,\"html.parser\")\n",
    "    #print(soup.prettify())\n",
    "    information={}\n",
    "    try:\n",
    "        shopurl=url\n",
    "        #print(shopurl)\n",
    "        information['shopurl']=shopurl\n",
    "\n",
    "        category=df['Category'][link]\n",
    "        #print(category)\n",
    "        information['Category']=category\n",
    "\n",
    "        shop_icon=soup.find('div',{'class':'shop-icon'}).find('img',{'class':'shop-icon-external'})['src']\n",
    "        information['shop_icon']=shop_icon\n",
    "        \n",
    "    \n",
    "        shop_name=soup.find('div',{'class':'shop-home-header-info'}).find('h1',{'class':'wt-text-heading wt-text-truncate'}).get_text().strip()\n",
    "        #print(shop_name)\n",
    "        information['shop_name']=shop_name\n",
    "            \n",
    "            \n",
    "        shop_owner=soup.find('div',{'class':'shop-owner'}).find('p').get_text().strip().replace(\"\\n\",\"\")\n",
    "        #print(shop_owner)\n",
    "        information['shop_owner']=shop_owner\n",
    "    \n",
    "    \n",
    "        shop_sales=soup.find('div',{'class':'shop-sales-reviews'}).find('span',{'class':'wt-text-caption wt-no-wrap'}).get_text().strip()\n",
    "        #print(shop_sales)\n",
    "        information['shop_sales']=shop_sales\n",
    "    \n",
    "        total_products=soup.find('div',{'class':'shop-home-wider-sections'}).find('span',{'class':'wt-mr-md-2'}).get_text().strip()\n",
    "        #print(total_products)\n",
    "        information['total_products']=total_products\n",
    "\n",
    "        shop_rating=soup.find('div',{'class':'shop-sales-reviews'}).find(attrs={'name':'rating'})\n",
    "        #print(shop_rating)\n",
    "        information['shop_rating']=shop_rating\n",
    "\n",
    "        total_reviews=soup.find('div',{'class':'reviews-total'}).find('div',{'class':'wt-display-inline-block wt-vertical-align-middle'}).get_text().strip().replace(\"(\",\"\").replace(\")\",\"\")\n",
    "        #print(total_reviews)\n",
    "        information['total_reviews']=total_reviews\n",
    "    \n",
    "            \n",
    "        shop_location=soup.find('span',{'class':'shop-location'}).get_text().strip()\n",
    "        #print(shop_location)\n",
    "        information['shop_location']=shop_location\n",
    "\n",
    "        l.append(information)\n",
    "        \n",
    "        \n",
    "    except:\n",
    "        #print(\"Shop location not given\")\n",
    "        l.append(information)\n",
    "\n",
    "#print(l)\n",
    "\n",
    "    #df['shop_location']=shop_location\n",
    "    #df['shop_owner'][link]=shop_owner\n",
    "    \n",
    "   # print (url)\n",
    "    "
   ]
  },
  {
   "cell_type": "code",
   "execution_count": 30,
   "id": "7fd01b14-75d2-4b03-ac01-a822c81b81cb",
   "metadata": {},
   "outputs": [],
   "source": [
    "#df=df.drop(\"shop_location\",axis=1)\n",
    "#df=df.drop(\"shop_owner\",axis=1)"
   ]
  },
  {
   "cell_type": "code",
   "execution_count": 31,
   "id": "e2da8e70-c8b1-4ce9-891e-29c6debcd9a2",
   "metadata": {},
   "outputs": [],
   "source": [
    "df1=pd.DataFrame(l,columns=['shop_icon','shop_name','Category','shop_owner','shop_location','total_products','shop_sales','shop_rating','total_reviews','shopurl'])"
   ]
  },
  {
   "cell_type": "code",
   "execution_count": 32,
   "id": "9687e9c0-c112-437a-9fd9-bb100bec05da",
   "metadata": {},
   "outputs": [
    {
     "data": {
      "text/html": [
       "<div>\n",
       "<style scoped>\n",
       "    .dataframe tbody tr th:only-of-type {\n",
       "        vertical-align: middle;\n",
       "    }\n",
       "\n",
       "    .dataframe tbody tr th {\n",
       "        vertical-align: top;\n",
       "    }\n",
       "\n",
       "    .dataframe thead th {\n",
       "        text-align: right;\n",
       "    }\n",
       "</style>\n",
       "<table border=\"1\" class=\"dataframe\">\n",
       "  <thead>\n",
       "    <tr style=\"text-align: right;\">\n",
       "      <th></th>\n",
       "      <th>shop_icon</th>\n",
       "      <th>shop_name</th>\n",
       "      <th>Category</th>\n",
       "      <th>shop_owner</th>\n",
       "      <th>shop_location</th>\n",
       "      <th>total_products</th>\n",
       "      <th>shop_sales</th>\n",
       "      <th>shop_rating</th>\n",
       "      <th>total_reviews</th>\n",
       "      <th>shopurl</th>\n",
       "    </tr>\n",
       "  </thead>\n",
       "  <tbody>\n",
       "    <tr>\n",
       "      <th>0</th>\n",
       "      <td>https://i.etsystatic.com/isla/6aa198/54425823/...</td>\n",
       "      <td>vintagescaredycat</td>\n",
       "      <td>Lighting</td>\n",
       "      <td>Scaredy cat vintage</td>\n",
       "      <td>Windsor, Canada</td>\n",
       "      <td>393</td>\n",
       "      <td>333 Sales</td>\n",
       "      <td>[]</td>\n",
       "      <td>110</td>\n",
       "      <td>https://www.etsy.com/shop/vintagescaredycat</td>\n",
       "    </tr>\n",
       "  </tbody>\n",
       "</table>\n",
       "</div>"
      ],
      "text/plain": [
       "                                           shop_icon          shop_name  \\\n",
       "0  https://i.etsystatic.com/isla/6aa198/54425823/...  vintagescaredycat   \n",
       "\n",
       "   Category           shop_owner    shop_location total_products shop_sales  \\\n",
       "0  Lighting  Scaredy cat vintage  Windsor, Canada            393  333 Sales   \n",
       "\n",
       "  shop_rating total_reviews                                      shopurl  \n",
       "0          []           110  https://www.etsy.com/shop/vintagescaredycat  "
      ]
     },
     "execution_count": 32,
     "metadata": {},
     "output_type": "execute_result"
    }
   ],
   "source": [
    "df1.head(10)"
   ]
  },
  {
   "cell_type": "code",
   "execution_count": 33,
   "id": "36b2dd75-bd18-426b-bc4f-0afa1714aace",
   "metadata": {},
   "outputs": [],
   "source": [
    "csv=df1.to_csv('etsy_seller_information_last.csv', index=False)"
   ]
  },
  {
   "cell_type": "code",
   "execution_count": null,
   "id": "8e811a76-74c8-4d1d-96b5-e5a0bc33eb7e",
   "metadata": {},
   "outputs": [],
   "source": []
  }
 ],
 "metadata": {
  "kernelspec": {
   "display_name": "Python 3 (ipykernel)",
   "language": "python",
   "name": "python3"
  },
  "language_info": {
   "codemirror_mode": {
    "name": "ipython",
    "version": 3
   },
   "file_extension": ".py",
   "mimetype": "text/x-python",
   "name": "python",
   "nbconvert_exporter": "python",
   "pygments_lexer": "ipython3",
   "version": "3.12.3"
  }
 },
 "nbformat": 4,
 "nbformat_minor": 5
}
